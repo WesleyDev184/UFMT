{
 "cells": [
  {
   "cell_type": "markdown",
   "id": "74ea0673",
   "metadata": {},
   "source": [
    "# Trabalho"
   ]
  },
  {
   "cell_type": "code",
   "execution_count": 27,
   "id": "d2048803",
   "metadata": {},
   "outputs": [],
   "source": [
    "import numpy as np # NumPy for numerical operations\n",
    "import matplotlib.pyplot as plt # Matplotlib for plotting\n",
    "import cv2 # OpenCV for image processingimport numpy as np"
   ]
  },
  {
   "cell_type": "code",
   "execution_count": 28,
   "id": "7c067f9c",
   "metadata": {},
   "outputs": [],
   "source": [
    "# 2.1\n",
    "def read_img(path, grayscale=True):\n",
    "    \"\"\"\n",
    "    Lê uma imagem a partir de um caminho, opcionalmente a converte para escala de cinza\n",
    "    e a normaliza para o intervalo [0, 1].\n",
    "\n",
    "    Args:\n",
    "        path (str): O caminho para o arquivo de imagem.\n",
    "        grayscale (bool): Se True, converte a imagem para escala de cinza.\n",
    "\n",
    "    Returns:\n",
    "        np.ndarray: A imagem carregada como um array NumPy de ponto flutuante.\n",
    "    \"\"\"\n",
    "    # Define o modo de leitura com base no parâmetro grayscale\n",
    "    read_mode = cv2.IMREAD_GRAYSCALE if grayscale else cv2.IMREAD_COLOR\n",
    "    \n",
    "    # Lê a imagem do caminho especificado\n",
    "    img = cv2.imread(path, read_mode)\n",
    "    \n",
    "    if img is None:\n",
    "        raise FileNotFoundError(f\"Não foi possível encontrar a imagem no caminho: {path}\")\n",
    "        \n",
    "    # Converte a imagem para float e normaliza para o intervalo [0, 1]\n",
    "    img_normalized = img.astype(np.float32) / 255.0\n",
    "    \n",
    "    return img_normalized"
   ]
  },
  {
   "cell_type": "code",
   "execution_count": 29,
   "id": "e75ec725",
   "metadata": {},
   "outputs": [],
   "source": [
    "# 2.2\n",
    "def save_img(img, path):\n",
    "    \"\"\"\n",
    "    Salva uma imagem (com valores no intervalo [0, 1]) em um arquivo.\n",
    "    A imagem é primeiro reescalada para o intervalo [0, 255].\n",
    "\n",
    "    Args:\n",
    "        img (np.ndarray): A imagem a ser salva (como array NumPy float).\n",
    "        path (str): O caminho do arquivo de destino.\n",
    "    \"\"\"\n",
    "    # Rescala a imagem de [0, 1] para [0, 255]\n",
    "    img_rescaled = (img * 255).astype(np.uint8)\n",
    "    \n",
    "    # Salva a imagem no caminho especificado\n",
    "    cv2.imwrite(path, img_rescaled)"
   ]
  },
  {
   "cell_type": "code",
   "execution_count": 30,
   "id": "15e27612",
   "metadata": {},
   "outputs": [
    {
     "name": "stdout",
     "output_type": "stream",
     "text": [
      "Imagem lenagray_modificada.jpg salva com sucesso.\n"
     ]
    }
   ],
   "source": [
    "# 2.3. Ler a imagem lenagray.jpg em escala de cinza\n",
    "try:\n",
    "    lena_gray = read_img('imgs/lenagray.jpg', grayscale=True)\n",
    "\n",
    "    # 2. Obter as dimensões da imagem\n",
    "    h, w = lena_gray.shape\n",
    "    \n",
    "    # 3. Criar uma nova imagem J com as mesmas dimensões\n",
    "    J = np.zeros_like(lena_gray)\n",
    "    \n",
    "    # 4. Definir a nova imagem J conforme as regras\n",
    "    # A metade esquerda de J (colunas 0 a 127) recebe a metade direita de lenagray\n",
    "    J[:, :w//2] = lena_gray[:, w//2:]\n",
    "    \n",
    "    # A metade direita de J (colunas 128 em diante) recebe a metade esquerda de lenagray\n",
    "    J[:, w//2:] = lena_gray[:, :w//2]\n",
    "    \n",
    "    # 5. Salvar a imagem modificada\n",
    "    save_img(J, 'outputs/lenagray_modificada.jpg')\n",
    "    \n",
    "    print(\"Imagem lenagray_modificada.jpg salva com sucesso.\")\n",
    "\n",
    "except FileNotFoundError as e:\n",
    "    print(e)"
   ]
  },
  {
   "cell_type": "code",
   "execution_count": 31,
   "id": "8e5bfb78",
   "metadata": {},
   "outputs": [
    {
     "name": "stdout",
     "output_type": "stream",
     "text": [
      "Imagem lenacolor_trocada.jpg salva com sucesso.\n"
     ]
    }
   ],
   "source": [
    "# 2.4. Ler a imagem lenacolor.jpg (colorida)\n",
    "try:\n",
    "    lena_color = read_img('imgs/lenacolor.jpg', grayscale=False)\n",
    "\n",
    "    # Lembre-se que o OpenCV lê em ordem B, G, R.\n",
    "    # Canal 0: Azul (B)\n",
    "    # Canal 1: Verde (G)\n",
    "    # Canal 2: Vermelho (R)\n",
    "    \n",
    "    # 2. Criar uma nova imagem J com as mesmas dimensões\n",
    "    J_color = np.zeros_like(lena_color)\n",
    "    \n",
    "    # 3. Trocar os canais conforme as regras\n",
    "    # Canal Vermelho de J (índice 2) = Canal Azul original (índice 0)\n",
    "    J_color[:, :, 2] = lena_color[:, :, 0]\n",
    "    \n",
    "    # Canal Verde de J (índice 1) = Canal Vermelho original (índice 2)\n",
    "    J_color[:, :, 1] = lena_color[:, :, 2]\n",
    "    \n",
    "    # Canal Azul de J (índice 0) = Canal Verde original (índice 1)\n",
    "    J_color[:, :, 0] = lena_color[:, :, 1]\n",
    "    \n",
    "    # 4. Salvar a nova imagem\n",
    "    save_img(J_color, 'outputs/lenacolor_trocada.jpg')\n",
    "\n",
    "    print(\"Imagem lenacolor_trocada.jpg salva com sucesso.\")\n",
    "\n",
    "except FileNotFoundError as e:\n",
    "    print(e)"
   ]
  },
  {
   "cell_type": "code",
   "execution_count": 32,
   "id": "2fc0d2c2",
   "metadata": {},
   "outputs": [],
   "source": [
    "# 3.2\n",
    "def gamma_transform(img, gamma_val, c=1.0):\n",
    "    \"\"\"\n",
    "    Aplica a transformação gamma a uma imagem.\n",
    "    A fórmula é s = c * (r^gamma_val).\n",
    "\n",
    "    Args:\n",
    "        img (np.ndarray): Imagem de entrada (float, normalizada).\n",
    "        gamma_val (float): O valor de gamma.\n",
    "        c (float): Constante de escala.\n",
    "\n",
    "    Returns:\n",
    "        np.ndarray: A imagem transformada e normalizada.\n",
    "    \"\"\"\n",
    "    # Aplica a transformação de potência\n",
    "    transformed_img = c * np.power(img, gamma_val)\n",
    "    \n",
    "    # Normaliza novamente para garantir que os valores permaneçam em [0, 1]\n",
    "    # (importante se c não for 1.0)\n",
    "    transformed_img = np.clip(transformed_img, 0.0, 1.0)\n",
    "    \n",
    "    return transformed_img"
   ]
  },
  {
   "cell_type": "code",
   "execution_count": 33,
   "id": "a40ccb92",
   "metadata": {},
   "outputs": [
    {
     "name": "stdout",
     "output_type": "stream",
     "text": [
      "Imagem lenagray_gamma.jpg salva com sucesso.\n"
     ]
    }
   ],
   "source": [
    "# aplicação de gamma_transform\n",
    "try:\n",
    "    # 1. Ler a imagem lenagray.jpg (escala de cinza)\n",
    "    lena_gray = read_img('imgs/lenagray.jpg', grayscale=True)\n",
    "\n",
    "    # 2. Aplicar a transformação gamma\n",
    "    gamma_corrected = gamma_transform(lena_gray, gamma_val=2.0)\n",
    "\n",
    "    # 3. Salvar a imagem resultante\n",
    "    save_img(gamma_corrected, 'outputs/lenagray_gamma.jpg')\n",
    "\n",
    "    print(\"Imagem lenagray_gamma.jpg salva com sucesso.\")\n",
    "\n",
    "except FileNotFoundError as e:\n",
    "    print(e)\n"
   ]
  },
  {
   "cell_type": "code",
   "execution_count": 34,
   "id": "303a90a8",
   "metadata": {},
   "outputs": [],
   "source": [
    "#3.4\n",
    "def negative(img):\n",
    "    \"\"\"\n",
    "    Calcula o negativo de uma imagem normalizada.\n",
    "\n",
    "    Args:\n",
    "        img (np.ndarray): Imagem de entrada (float, normalizada em [0, 1]).\n",
    "\n",
    "    Returns:\n",
    "        np.ndarray: A imagem negativa, normalizada.\n",
    "    \"\"\"\n",
    "    # Para uma imagem normalizada, o negativo é simplesmente 1 - img\n",
    "    return 1.0 - img"
   ]
  },
  {
   "cell_type": "code",
   "execution_count": 35,
   "id": "f6cc53ef",
   "metadata": {},
   "outputs": [
    {
     "name": "stdout",
     "output_type": "stream",
     "text": [
      "Imagem lenagray_negative.jpg salva com sucesso.\n"
     ]
    }
   ],
   "source": [
    "# uso da negative\n",
    "try:\n",
    "    # 1. Ler a imagem lenagray.jpg (escala de cinza)\n",
    "    lena_gray = read_img('imgs/lenagray.jpg', grayscale=True)\n",
    "\n",
    "    # 2. Aplicar a transformação negativa\n",
    "    negative_img = negative(lena_gray)\n",
    "\n",
    "    # 3. Salvar a imagem resultante\n",
    "    save_img(negative_img, 'outputs/lenagray_negative.jpg')\n",
    "\n",
    "    print(\"Imagem lenagray_negative.jpg salva com sucesso.\")\n",
    "\n",
    "except FileNotFoundError as e:\n",
    "    print(e)\n"
   ]
  },
  {
   "cell_type": "code",
   "execution_count": 36,
   "id": "659aa678",
   "metadata": {},
   "outputs": [],
   "source": [
    "# 3.9\n",
    "def histeq(img):\n",
    "    \"\"\"\n",
    "    Realiza a equalização de histograma em uma imagem.\n",
    "    Se a imagem for colorida, converte para HSI e equaliza o canal de intensidade.\n",
    "    Não usa funções prontas de histograma ou equalização.\n",
    "\n",
    "    Args:\n",
    "        img (np.ndarray): Imagem de entrada (float, normalizada).\n",
    "\n",
    "    Returns:\n",
    "        np.ndarray: A imagem equalizada.\n",
    "    \"\"\"\n",
    "    is_color = len(img.shape) == 3\n",
    "    \n",
    "    if is_color:\n",
    "        # Converte para HSI (escala [0, 1])\n",
    "        # Primeiro, converte de BGR (float) para RGB (float)\n",
    "        img_rgb = img[:, :, ::-1]\n",
    "        img_hsi = cv2.cvtColor(img_rgb, cv2.COLOR_RGB2HSV_FULL) # Usando HSV como aproximação de HSI\n",
    "        intensity = img_hsi[:, :, 2]\n",
    "        # Salva H e S para reconstrução\n",
    "        h_channel = img_hsi[:, :, 0]\n",
    "        s_channel = img_hsi[:, :, 1]\n",
    "    else:\n",
    "        intensity = img\n",
    "\n",
    "    # Desnormaliza a intensidade para calcular o histograma em 256 níveis\n",
    "    img_uint8 = (intensity * 255).astype(np.uint8)\n",
    "    \n",
    "    # 1. Calcular o histograma manualmente\n",
    "    hist = [0] * 256\n",
    "    for pixel_value in img_uint8.flatten():\n",
    "        hist[pixel_value] += 1\n",
    "        \n",
    "    # 2. Calcular a PDF\n",
    "    num_pixels = img_uint8.shape[0] * img_uint8.shape[1]\n",
    "    pdf = [count / num_pixels for count in hist]\n",
    "    \n",
    "    # 3. Calcular a CDF\n",
    "    cdf = [0] * 256\n",
    "    cdf[0] = pdf[0]\n",
    "    for i in range(1, 256):\n",
    "        cdf[i] = cdf[i-1] + pdf[i]\n",
    "        \n",
    "    # 4. Criar a tabela de mapeamento (Look-up Table)\n",
    "    lut = {i: round(cdf[i] * 255) for i in range(256)}\n",
    "    \n",
    "    # 5. Mapear os pixels para a nova imagem\n",
    "    equalized_uint8 = np.array([lut[pixel] for pixel in img_uint8.flatten()]).reshape(img_uint8.shape).astype(np.uint8)\n",
    "    \n",
    "    # Normaliza de volta para [0, 1]\n",
    "    equalized_intensity = equalized_uint8.astype(np.float32) / 255.0\n",
    "\n",
    "    if is_color:\n",
    "        # Remonta a imagem HSI\n",
    "        equalized_hsi = np.stack([h_channel, s_channel, equalized_intensity], axis=-1)\n",
    "        # Converte de volta para BGR (float)\n",
    "        equalized_rgb = cv2.cvtColor(equalized_hsi, cv2.COLOR_HSV2RGB_FULL)\n",
    "        equalized_img = equalized_rgb[:, :, ::-1]\n",
    "    else:\n",
    "        equalized_img = equalized_intensity\n",
    "        \n",
    "    return equalized_img"
   ]
  },
  {
   "cell_type": "code",
   "execution_count": 37,
   "id": "ef7fe064",
   "metadata": {},
   "outputs": [
    {
     "name": "stdout",
     "output_type": "stream",
     "text": [
      "Imagem lenagray_histeq.jpg salva com sucesso.\n"
     ]
    }
   ],
   "source": [
    "# uso de histeq\n",
    "try:\n",
    "    # 1. Ler a imagem lenagray.jpg (escala de cinza)\n",
    "    lena_gray = read_img('imgs/lenagray.jpg', grayscale=True)\n",
    "\n",
    "    # 2. Aplicar a equalização de histograma\n",
    "    histeq_img = histeq(lena_gray)\n",
    "\n",
    "    # 3. Salvar a imagem resultante\n",
    "    save_img(histeq_img, 'outputs/lenagray_histeq.jpg')\n",
    "\n",
    "    print(\"Imagem lenagray_histeq.jpg salva com sucesso.\")\n",
    "\n",
    "except FileNotFoundError as e:\n",
    "    print(e)\n"
   ]
  }
 ],
 "metadata": {
  "kernelspec": {
   "display_name": "venv",
   "language": "python",
   "name": "python3"
  },
  "language_info": {
   "codemirror_mode": {
    "name": "ipython",
    "version": 3
   },
   "file_extension": ".py",
   "mimetype": "text/x-python",
   "name": "python",
   "nbconvert_exporter": "python",
   "pygments_lexer": "ipython3",
   "version": "3.10.12"
  }
 },
 "nbformat": 4,
 "nbformat_minor": 5
}
