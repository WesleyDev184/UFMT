{
 "cells": [
  {
   "cell_type": "markdown",
   "metadata": {},
   "source": [
    "# Importando as bibliotecas necessárias\n",
    "Importando as bibliotecas necessárias, incluindo pandas, matplotlib, seaborn e numpy."
   ]
  },
  {
   "cell_type": "code",
   "execution_count": null,
   "metadata": {},
   "outputs": [],
   "source": [
    "import pandas as pd\n",
    "import matplotlib.pyplot as plt\n",
    "import seaborn as sns\n",
    "import numpy as np\n",
    "\n",
    "sns.set(style=\"whitegrid\")"
   ]
  },
  {
   "cell_type": "markdown",
   "metadata": {},
   "source": [
    "# Carregar o Dataset\n",
    "\n",
    "O trecho de código realiza uma análise exploratória inicial no dataset `listagem-alunos.csv` usando a biblioteca Pandas. As seguintes etapas são executadas:\n",
    "\n",
    "1. **Carregamento do Dataset:**  \n",
    "   - O arquivo CSV é lido e armazenado no DataFrame `df`.\n",
    "\n",
    "2. **Dimensão do Dataset:**  \n",
    "   - `df.shape` retorna o número total de linhas (registros) e colunas (variáveis), exibindo essa informação no console.\n",
    "\n",
    "3. **Verificação de Valores Nulos:**  \n",
    "   - `df.isnull().sum()` contabiliza a quantidade de valores nulos por coluna, auxiliando na identificação de dados ausentes.\n",
    "\n",
    "4. **Tipos de Dados:**  \n",
    "   - `df.dtypes` exibe os tipos de dados de cada coluna, facilitando a análise e possíveis conversões de tipos.\n",
    "\n",
    "5. **Visualização das Primeiras Linhas:**  \n",
    "   - `df.head()` apresenta as cinco primeiras linhas do dataset para uma inspeção inicial dos dados."
   ]
  },
  {
   "cell_type": "code",
   "execution_count": null,
   "metadata": {},
   "outputs": [],
   "source": [
    "# Load CSV Data\n",
    "df = pd.read_csv('listagem-alunos.csv',sep=';', on_bad_lines='skip')\n",
    "\n",
    "num_linhas, num_colunas = df.shape\n",
    "print(f\"Número total de registros (linhas): {num_linhas}\")\n",
    "print(f\"Número total de variáveis (colunas): {num_colunas}\")\n",
    "print(\"\\n\")\n",
    "\n",
    "print(\"Valores nulos:\")\n",
    "print(df.isnull().sum())\n",
    "print(\"\\n\")\n",
    "\n",
    "print(\"Tipos de dados:\")\n",
    "print(df.dtypes)\n",
    "print(\"\\n\")\n",
    "\n",
    "df.head()"
   ]
  },
  {
   "cell_type": "markdown",
   "metadata": {},
   "source": [
    "# Remoção dos Campos Desnecessários\n",
    "\n",
    "Nesta etapa, vamos remover os campos (colunas) que não são relevantes para nossa análise dos dados de alunos. Geralmente, isso é necessário para:\n",
    "\n",
    "- Simplificar o conjunto de dados\n",
    "- Melhorar a performance dos processos de análise\n",
    "- Eliminar informações redundantes ou irrelevantes"
   ]
  },
  {
   "cell_type": "code",
   "execution_count": null,
   "metadata": {},
   "outputs": [],
   "source": [
    "colunas_remover = ['CO_IES', 'NO_IES', 'SG_IES', 'CO_INSCRICAO_ENEN','NO_INSCRICAO', 'NO_MODALIDADE_CONCORRENCIA','ST_BONUS_PERC','QT_BONUS_PERC','NO_ACAO_AFIRMATIVA_BONUS']  \n",
    "\n",
    "df = df.drop(columns=colunas_remover, errors='ignore')\n",
    "\n",
    "df['NU_NOTA_CANDIDATO'] = pd.to_numeric(df['NU_NOTA_CANDIDATO'], errors='coerce')\n",
    "df['NU_NOTACORTE_CONCORRIDA'] = pd.to_numeric(df['NU_NOTACORTE_CONCORRIDA'], errors='coerce')\n",
    "df['NU_CLASSIFICACAO'] = pd.to_numeric(df['NU_CLASSIFICACAO'], errors='coerce')\n",
    "\n",
    "df.dropna(subset=['NU_NOTA_CANDIDATO', 'NU_NOTACORTE_CONCORRIDA','NU_CLASSIFICACAO'], inplace=True)\n",
    "\n",
    "print(\"Tipos de dados:\")\n",
    "print(df.dtypes)\n",
    "print(\"\\n\")\n",
    "\n",
    "df.head()"
   ]
  },
  {
   "cell_type": "markdown",
   "metadata": {},
   "source": [
    "# 1.Análise de Competitividade por Curso e Instituição"
   ]
  },
  {
   "cell_type": "markdown",
   "metadata": {},
   "source": [
    "## Nota de Corte vs. Nota do Candidato\n",
    "Verificar se há cursos onde a nota média dos candidatos admitidos (NU_NOTA_CANDIDATO) é significativamente superior à nota de corte, indicando alta competitividade.\n",
    "\n",
    "1. **Agrupamento e Cálculo da Média:**\n",
    "   - O código agrupa o DataFrame pelo campo `NO_CURSO` e calcula a média das notas dos candidatos (`NU_NOTA_CANDIDATO`) para cada curso.\n",
    "\n",
    "2. **Obtenção da Nota de Corte:**\n",
    "   - Para cada curso, é obtida a primeira ocorrência da nota de corte (`NU_NOTACORTE_CONCORRIDA`) usando o agrupamento por `NO_CURSO`.\n",
    "\n",
    "3. **Cálculo da Diferença:**\n",
    "   - É calculada a diferença entre a média das notas dos candidatos e a nota de corte para cada curso.\n",
    "\n",
    "4. **Seleção dos Cursos Altamente Competitivos:**\n",
    "   - São selecionados os cursos cuja diferença é maior que 50 pontos, considerando esse valor como um limite arbitrário para definir alta competitividade.\n",
    "   \n",
    "5. **Exibição dos Resultados:**\n",
    "   - Finalmente, o código imprime no console a lista dos cursos considerados altamente competitivos juntamente com o valor da diferença."
   ]
  },
  {
   "cell_type": "code",
   "execution_count": null,
   "metadata": {},
   "outputs": [],
   "source": [
    "media_notas_candidatos = df.groupby('NO_CURSO')['NU_NOTA_CANDIDATO'].mean()\n",
    "\n",
    "nota_corte = df.groupby('NO_CURSO')['NU_NOTACORTE_CONCORRIDA'].first()\n",
    "\n",
    "diferenca = media_notas_candidatos - nota_corte\n",
    "\n",
    "competitivos = diferenca[diferenca > 50]  # Definindo um limite arbitrário de 50 pontos\n",
    "\n",
    "plt.figure(figsize=(10, 5))\n",
    "sns.barplot(x=competitivos.index, y=competitivos.values, palette='viridis')\n",
    "plt.xlabel(\"Cursos\")\n",
    "plt.ylabel(\"Diferença Média vs. Nota de Corte\")\n",
    "plt.title(\"Cursos Altamente Competitivos\")\n",
    "plt.xticks(rotation=90)\n",
    "plt.show()\n",
    "\n",
    "print(\"Cursos altamente competitivos:\")\n",
    "print(competitivos)"
   ]
  },
  {
   "cell_type": "markdown",
   "metadata": {},
   "source": [
    "## Classificação média dos ingressantes por curso\n",
    "Avaliar se há cursos onde os candidatos entram com maior ou menor vantagem na classificação.\n",
    "\n",
    "1. **Cálculo da Classificação Média:**\n",
    "   - O código agrupa o DataFrame pelo campo `NO_CURSO` e calcula a média dos valores na coluna `NU_CLASSIFICACAO` para cada curso.\n",
    "\n",
    "2. **Exibição dos Resultados:**\n",
    "   - O gráfico é exibido e, em seguida, o DataFrame com a classificação média por curso é impresso no console."
   ]
  },
  {
   "cell_type": "code",
   "execution_count": null,
   "metadata": {},
   "outputs": [],
   "source": [
    "media_classificacao = df.groupby('NO_CURSO')['NU_CLASSIFICACAO'].mean()\n",
    "\n",
    "plt.figure(figsize=(10, 5))\n",
    "sns.barplot(x=media_classificacao.index, y=media_classificacao.values, palette='coolwarm')\n",
    "plt.xlabel(\"Cursos\")\n",
    "plt.ylabel(\"Classificação Média\")\n",
    "plt.title(\"Classificação Média dos Ingressantes por Curso\")\n",
    "plt.xticks(rotation=90)\n",
    "plt.show()\n",
    "\n",
    "print(\"\\nClassificação média dos ingressantes por curso:\")\n",
    "print(media_classificacao)\n",
    "\n",
    "media_df = pd.DataFrame({'Média Classificação': media_classificacao})\n",
    "plt.figure(figsize=(10, max(5, len(media_df) * 0.5)))\n",
    "sns.heatmap(media_df, annot=True, cmap='coolwarm', fmt=\".2f\")\n",
    "plt.title(\"Heatmap - Classificação Média dos Ingressantes por Curso\")\n",
    "plt.show()"
   ]
  },
  {
   "cell_type": "markdown",
   "metadata": {},
   "source": [
    "# 3. Desempenho Acadêmico e Perfil dos Ingressantes"
   ]
  },
  {
   "cell_type": "markdown",
   "metadata": {},
   "source": [
    "## Correlação entre Tipo de Ensino Médio e Nota no ENEM\n",
    " Verificar se alunos de escolas públicas (ENSINO_MEDIO) têm notas médias (NU_NOTA_CANDIDATO) diferentes das de escolas privadas.\n",
    "\n",
    "1. **Cálculo da Média das Notas do ENEM por Tipo de Ensino Médio:**\n",
    "   - O código agrupa o DataFrame (`df`) pela coluna `ENSINO_MEDIO` e calcula a média das notas dos candidatos (`NU_NOTA_CANDIDATO`) para cada tipo de ensino médio.\n",
    "\n",
    "2. **Exibição dos Resultados:**\n",
    "   - O gráfico é exibido com `plt.show()`.\n",
    "   - Em seguida, os valores médios calculados para cada tipo de ensino são impressos no console."
   ]
  },
  {
   "cell_type": "code",
   "execution_count": null,
   "metadata": {},
   "outputs": [],
   "source": [
    "enem_por_ensino = df.groupby('ENSINO_MEDIO')['NU_NOTA_CANDIDATO'].mean()\n",
    "\n",
    "plt.figure(figsize=(8, 5))\n",
    "sns.barplot(x=enem_por_ensino.index, y=enem_por_ensino.values, palette='Blues')\n",
    "plt.xlabel(\"Tipo de Ensino Médio\")\n",
    "plt.ylabel(\"Média da Nota no ENEM\")\n",
    "plt.title(\"Correlação entre Tipo de Ensino Médio e Nota no ENEM\")\n",
    "plt.xticks(rotation=45)\n",
    "plt.show()\n",
    "\n",
    "print(\"\\nCorrelação entre Tipo de Ensino Médio e Nota no ENEM:\")\n",
    "print(enem_por_ensino)"
   ]
  },
  {
   "cell_type": "markdown",
   "metadata": {},
   "source": [
    "# 4. Distribuição Geográfica e Mobilidade"
   ]
  },
  {
   "cell_type": "markdown",
   "metadata": {},
   "source": [
    "## Origem dos Estudantes\n",
    "Cruzar a localização da universidade (SG_UF_IES) com o estado de origem dos candidatos (se disponível) para entender a mobilidade interestadual.\n",
    "\n",
    "1. **Verificação de Coluna:**\n",
    "   - O código primeiro verifica se a coluna `SG_UF_CANDIDATO` existe no DataFrame `df`. Se não existir, imprime uma mensagem informando a ausência da coluna.\n",
    "\n",
    "2. **Cálculo da Mobilidade Interestadual:**\n",
    "   - Quando a coluna existe, o código agrupa os dados por `SG_UF_CANDIDATO` (Estado de Origem do Candidato) e `SG_UF_IES` (Estado da Universidade) e conta o número de ocorrências para cada combinação.\n",
    "   - O resultado é organizado em um formato de tabela (`mobilidade`) onde as linhas representam os estados de origem e as colunas os estados das universidades. Valores ausentes são preenchidos com zero usando `unstack(fill_value=0)`.\n",
    "\n",
    "3. **Exibição dos Resultados:**\n",
    "   - O heatmap é exibido na tela com `plt.show()`.\n",
    "   - Por fim, a tabela `mobilidade` é impressa no console para visualização dos dados."
   ]
  },
  {
   "cell_type": "code",
   "execution_count": null,
   "metadata": {},
   "outputs": [],
   "source": [
    "if 'SG_UF_CANDIDATO' in df.columns:\n",
    "    mobilidade = df.groupby(['SG_UF_CANDIDATO', 'SG_UF_IES']).size().unstack(fill_value=0)\n",
    "    \n",
    "    plt.figure(figsize=(12, 6))\n",
    "    sns.heatmap(mobilidade, cmap='Blues', linewidths=0.5, annot=False)\n",
    "    plt.xlabel(\"Estado da Universidade\")\n",
    "    plt.ylabel(\"Estado de Origem do Candidato\")\n",
    "    plt.title(\"Mobilidade Interestadual dos Estudantes\")\n",
    "    plt.show()\n",
    "    \n",
    "    print(\"Mobilidade Interestadual dos Estudantes:\")\n",
    "    print(mobilidade)\n",
    "else:\n",
    "    print(\"A coluna 'SG_UF_CANDIDATO' não está disponível nos dados.\")"
   ]
  },
  {
   "cell_type": "markdown",
   "metadata": {},
   "source": [
    "## Distribuição dos ingressantes entre campi da UFMT\n",
    "Identificar quais campi atraem mais candidatos e se há variação nas notas de corte.\n",
    "\n",
    "1. **Contagem de Ingressantes por Campus:**\n",
    "   - É calculada a frequência de registros para cada campus usando `value_counts()` na coluna `NO_CAMPUS`.\n",
    "\n",
    "2. **Exibição dos Campi com Mais Ingressantes:**\n",
    "   - Imprime-se a contagem de ingressantes por campus no console.\n",
    "\n",
    "3. **Cálculo de Média e Desvio Padrão das Notas de Corte:**\n",
    "   - Agrupa os dados por campus e, para cada grupo, calcula a média e o desvio padrão das notas de corte.\n",
    "   - Os resultados são impressos para exibir a distribuição dos valores estatísticos por campus."
   ]
  },
  {
   "cell_type": "code",
   "execution_count": null,
   "metadata": {},
   "outputs": [],
   "source": [
    "ingressantes_por_campus = df['NO_CAMPUS'].value_counts()\n",
    "\n",
    "plt.figure(figsize=(12, 6))\n",
    "sns.boxplot(x='NO_CAMPUS', y='NU_NOTACORTE_CONCORRIDA', data=df)\n",
    "plt.xticks(rotation=90)\n",
    "plt.xlabel(\"Campus\")\n",
    "plt.ylabel(\"Nota de Corte\")\n",
    "plt.title(\"Distribuição das Notas de Corte por Campus da UFMT\")\n",
    "plt.show()\n",
    "\n",
    "print(\"Ingressantes por campus:\")\n",
    "print(ingressantes_por_campus)\n",
    "\n",
    "notas_corte_por_campus = df.groupby('NO_CAMPUS')['NU_NOTACORTE_CONCORRIDA'].agg(['mean', 'std'])\n",
    "print(\"\\nMédia e desvio padrão das notas de corte por campus:\")\n",
    "print(notas_corte_por_campus)"
   ]
  },
  {
   "cell_type": "markdown",
   "metadata": {},
   "source": [
    "# 5. Análise de Turnos e Tipos de Formação"
   ]
  },
  {
   "cell_type": "markdown",
   "metadata": {},
   "source": [
    "## Preferência por Turno\n",
    "Comparar a demanda por cursos no turno diurno vs. noturno (DS_TURNO). Há cursos com maior concorrência em um turno específico?\n",
    "\n",
    "1. **Contagem da Demanda por Turno:**\n",
    "   - O código utiliza `value_counts()` na coluna `DS_TURNO` para obter a quantidade de candidatos por turno.\n",
    "\n",
    "2. **Exibição da Demanda por Turno:**\n",
    "   - O gráfico é exibido e, em seguida, a contagem de candidatos por turno é impressa no console.\n",
    "\n",
    "3. **Comparação da Concorrência por Turno:**\n",
    "   - Os dados são agrupados pela coluna `DS_TURNO` e é calculada a média da concorrência (`QT_VAGAS_CONCORRENCIA`) para cada turno.\n",
    "   - Esses valores médios são impressos no console para análise comparativa."
   ]
  },
  {
   "cell_type": "code",
   "execution_count": null,
   "metadata": {},
   "outputs": [],
   "source": [
    "demanda_por_turno = df['DS_TURNO'].value_counts()\n",
    "\n",
    "plt.figure(figsize=(8, 6))\n",
    "sns.barplot(x=demanda_por_turno.index, y=demanda_por_turno.values, palette='viridis')\n",
    "plt.xlabel(\"Turno\")\n",
    "plt.ylabel(\"Número de Candidatos\")\n",
    "plt.title(\"Demanda por Cursos no Turno Diurno vs. Noturno\")\n",
    "plt.show()\n",
    "\n",
    "print(\"Demanda por turno:\")\n",
    "print(demanda_por_turno)\n",
    "\n",
    "concorrencia_por_turno = df.groupby('DS_TURNO')['QT_VAGAS_CONCORRENCIA'].mean()\n",
    "print(\"\\nMédia de concorrência por turno:\")\n",
    "print(concorrencia_por_turno)\n"
   ]
  },
  {
   "cell_type": "markdown",
   "metadata": {},
   "source": [
    "## Formação Acadêmica\n",
    "Relacionar o tipo de formação (DS_FORMACAO – bacharelado, licenciatura) com a procura e notas de corte.\n",
    "\n",
    "1. **Contagem de Candidatos por Formação Acadêmica:**\n",
    "   - É utilizada a função `value_counts()` na coluna `DS_FORMACAO` para contar a quantidade de candidatos para cada tipo de formação acadêmica.\n",
    "\n",
    "2. **Cálculo da Média das Notas de Corte por Formação:**\n",
    "   - Os dados são agrupados pela coluna `DS_FORMACAO` e, para cada grupo, é calculada a média da nota de corte (`NU_NOTACORTE_CONCORRIDA`).\n",
    "   - O resultado dessa média é impresso no console, permitindo analisar as notas de corte médias por tipo de formação."
   ]
  },
  {
   "cell_type": "code",
   "execution_count": null,
   "metadata": {},
   "outputs": [],
   "source": [
    "demanda_por_formacao = df['DS_FORMACAO'].value_counts()\n",
    "\n",
    "plt.figure(figsize=(8, 6))\n",
    "sns.barplot(x=demanda_por_formacao.index, y=demanda_por_formacao.values, palette='magma')\n",
    "plt.xlabel(\"Formação Acadêmica\")\n",
    "plt.ylabel(\"Número de Candidatos\")\n",
    "plt.title(\"Demanda por Tipo de Formação\")\n",
    "plt.show()\n",
    "\n",
    "notas_corte_por_formacao = df.groupby('DS_FORMACAO')['NU_NOTACORTE_CONCORRIDA'].mean()\n",
    "stats = pd.DataFrame({\n",
    "    'Numero de Candidatos': demanda_por_formacao,\n",
    "    'Nota de Corte Media': notas_corte_por_formacao\n",
    "})\n",
    "\n",
    "# Plotando o heatmap\n",
    "plt.figure(figsize=(8, 6))\n",
    "sns.heatmap(stats, annot=True, cmap='magma', fmt=\".1f\")\n",
    "plt.title(\"Heatmap - Demanda e Nota de Corte por Formação\")\n",
    "plt.show()\n",
    "\n",
    "print(\"\\nMédia das notas de corte por formação:\")\n",
    "print(notas_corte_por_formacao)"
   ]
  },
  {
   "cell_type": "markdown",
   "metadata": {},
   "source": [
    "# 6. Comparação entre Modalidades de Concorrência\n"
   ]
  },
  {
   "cell_type": "markdown",
   "metadata": {},
   "source": [
    "## Ampla Concorrência vs. Cotas\n",
    "Analisar diferenças nas notas médias, classificação (NU_CLASSIFICACAO) e taxa de sucesso entre candidatos de ampla concorrência (TIPO_CONCORRENCIA) e aqueles em modalidades afirmativas.\n",
    "\n",
    "1. **Criação da Coluna “COTA”:**\n",
    "   - Uma nova coluna chamada `COTA` é criada a partir da coluna `TIPO_CONCORRENCIA` utilizando `apply` e uma função lambda.\n",
    "   - Se o valor de `TIPO_CONCORRENCIA` for `AC`, é rotulado como \"Ampla Concorrência\"; do contrário, como \"Cotas\".\n",
    "\n",
    "2. **Comparação de Notas Médias:**\n",
    "   - O DataFrame é agrupado pela modalidade de concorrência (`COTA`) e é calculada a média das notas dos candidatos (`NU_NOTA_CANDIDATO`).\n",
    "   - O resultado é impresso para comparar as notas médias entre as modalidades.\n",
    "\n",
    "3. **Comparação de Classificação Média:**\n",
    "   - Similarmente, é calculada a média das classificações (`NU_CLASSIFICACAO`) para cada modalidade de concorrência.\n",
    "   - O resultado é exibido para analisar a variação nas classificações entre \"Ampla Concorrência\" e \"Cotas\".\n",
    "\n",
    "4. **Cálculo da Taxa de Sucesso:**\n",
    "   - É aplicada uma função utilizando `groupby` e `apply` para calcular a taxa de sucesso (aprovados) em cada modalidade.\n",
    "   - Para cada grupo, a taxa de sucesso é definida como a fração de candidatos cuja classificação (`NU_CLASSIFICACAO`) é menor ou igual ao número de vagas concorridas (`QT_VAGAS_CONCORRENCIA`)."
   ]
  },
  {
   "cell_type": "code",
   "execution_count": null,
   "metadata": {},
   "outputs": [],
   "source": [
    "df['COTA'] = df['TIPO_CONCORRENCIA'].apply(lambda x: 'Ampla Concorrência' if x == 'AC' else 'Cotas')\n",
    "\n",
    "dif_notas = df.groupby('COTA')['NU_NOTA_CANDIDATO'].mean()\n",
    "print(\"\\nMédia das notas por modalidade de concorrência:\")\n",
    "print(dif_notas)\n",
    "\n",
    "dif_classificacao = df.groupby('COTA')['NU_CLASSIFICACAO'].mean()\n",
    "print(\"\\nClassificação média por modalidade de concorrência:\")\n",
    "print(dif_classificacao)\n",
    "\n",
    "taxa_sucesso = df.groupby('COTA').apply(lambda x: (x['NU_CLASSIFICACAO'] <= x['QT_VAGAS_CONCORRENCIA']).mean())\n",
    "print(\"\\nTaxa de sucesso por modalidade de concorrência:\")\n",
    "print(taxa_sucesso)\n",
    "\n",
    "g = sns.FacetGrid(df, hue=\"COTA\", height=6, aspect=1.5)\n",
    "g.map(sns.kdeplot, \"NU_NOTA_CANDIDATO\", shade=True)\n",
    "g.add_legend()\n",
    "plt.title(\"Distribuição das Notas por Modalidade de Concorrência\")\n",
    "plt.xlabel(\"Nota do Candidato\")\n",
    "plt.ylabel(\"Densidade\")\n",
    "plt.show()"
   ]
  }
 ],
 "metadata": {
  "kernelspec": {
   "display_name": "Python 3",
   "language": "python",
   "name": "python3"
  },
  "language_info": {
   "codemirror_mode": {
    "name": "ipython",
    "version": 3
   },
   "file_extension": ".py",
   "mimetype": "text/x-python",
   "name": "python",
   "nbconvert_exporter": "python",
   "pygments_lexer": "ipython3",
   "version": "3.8.10"
  }
 },
 "nbformat": 4,
 "nbformat_minor": 2
}
