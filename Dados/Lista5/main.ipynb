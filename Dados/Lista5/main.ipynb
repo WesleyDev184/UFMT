{
 "cells": [
  {
   "cell_type": "markdown",
   "metadata": {},
   "source": [
    "# Importando as bibliotecas necessárias\n",
    "Importando as bibliotecas necessárias, incluindo pandas, matplotlib, seaborn e numpy."
   ]
  },
  {
   "cell_type": "code",
   "execution_count": null,
   "metadata": {},
   "outputs": [],
   "source": [
    "import pandas as pd\n",
    "import pdfplumber\n",
    "import matplotlib.pyplot as plt\n",
    "import seaborn as sns\n",
    "import numpy as np\n",
    "\n",
    "sns.set(style=\"whitegrid\")"
   ]
  },
  {
   "cell_type": "markdown",
   "metadata": {},
   "source": [
    "# Carregar o Dataset\n",
    "\n",
    "Para carregar o dataset, utilizamos a biblioteca `pdfplumber` para extrair tabelas de um arquivo PDF. Em seguida, os dados extraídos são convertidos em um DataFrame do pandas, onde realizamos algumas limpezas, como remover linhas nulas e redefinir os índices. Por fim, exibimos algumas informações sobre o DataFrame, como o número de registros, número de variáveis, valores nulos e tipos de dados."
   ]
  },
  {
   "cell_type": "code",
   "execution_count": null,
   "metadata": {},
   "outputs": [],
   "source": [
    "pdf_path = \"Matrículas2025.pdf\"\n",
    "\n",
    "data = []\n",
    "with pdfplumber.open(pdf_path) as pdf:\n",
    "    for page in pdf.pages:\n",
    "        table = page.extract_table()\n",
    "        if table:\n",
    "            data.extend(table)  \n",
    "\n",
    "df = pd.DataFrame(data, columns=[\"Curso\", \"Candidato\", \"Tipo de Vaga\"])\n",
    "df = df.iloc[1:].reset_index(drop=True)\n",
    "df = df.dropna().reset_index(drop=True)\n",
    "\n",
    "num_linhas, num_colunas = df.shape\n",
    "print(f\"Número total de registros (linhas): {num_linhas}\")\n",
    "print(f\"Número total de variáveis (colunas): {num_colunas}\")\n",
    "print(\"\\n\")\n",
    "\n",
    "print(\"Valores nulos:\")\n",
    "print(df.isnull().sum())\n",
    "print(\"\\n\")\n",
    "\n",
    "print(\"Tipos de dados:\")\n",
    "print(df.dtypes)\n",
    "print(\"\\n\")\n",
    "\n",
    "df.head()"
   ]
  }
 ],
 "metadata": {
  "kernelspec": {
   "display_name": "Python 3",
   "language": "python",
   "name": "python3"
  },
  "language_info": {
   "codemirror_mode": {
    "name": "ipython",
    "version": 3
   },
   "file_extension": ".py",
   "mimetype": "text/x-python",
   "name": "python",
   "nbconvert_exporter": "python",
   "pygments_lexer": "ipython3",
   "version": "3.8.10"
  }
 },
 "nbformat": 4,
 "nbformat_minor": 2
}
