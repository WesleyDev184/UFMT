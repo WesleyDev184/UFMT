{
 "cells": [
  {
   "cell_type": "markdown",
   "metadata": {},
   "source": [
    "# Análise dos Testes Estatísticos"
   ]
  },
  {
   "cell_type": "markdown",
   "metadata": {},
   "source": [
    "## Teste 1: Teste t de Student com distribuição exponencial\n",
    "O teste t de Student é um teste paramétrico que assume que os dados seguem uma distribuição normal e possuem variâncias homogêneas entre os grupocomparados. Noentanto, neste caso, os dados foram gerados a partir de uma distribuição exponencial, que é assimétrica e não segue a normalidade. Isssignifica que o teste podeproduzir resultados inválidos devido à violação de seus pressupostos. Para corrigir esse problema, uma alternativa mais robustseria utilizar um teste nãoparamétrico, como o teste de Mann-Whitney U, que não exige a suposição de normalidade.\n"
   ]
  },
  {
   "cell_type": "code",
   "execution_count": 2,
   "metadata": {},
   "outputs": [
    {
     "name": "stdout",
     "output_type": "stream",
     "text": [
      "Teste de normalidade (Shapiro-Wilk): ShapiroResult(statistic=0.8508714437484741, pvalue=2.4376661261736104e-21)\n",
      "Teste t de Student: 0.3013067861980228\n"
     ]
    }
   ],
   "source": [
    "import numpy as np\n",
    "import scipy.stats as stats\n",
    "\n",
    "np.random.seed(42)\n",
    "\n",
    "grupo1 = np.random.exponential(scale=2, size=500)\n",
    "grupo2 = np.random.exponential(scale=2, size=500)\n",
    "\n",
    "# Teste de normalidade\n",
    "print(\"Teste de normalidade (Shapiro-Wilk):\", stats.shapiro(grupo1))\n",
    "\n",
    "# Teste t\n",
    "t_stat, p_value = stats.ttest_ind(grupo1, grupo2)\n",
    "print(\"Teste t de Student:\", p_value)"
   ]
  },
  {
   "cell_type": "markdown",
   "metadata": {},
   "source": [
    " ## Teste 2: Teste de Mann-Whitney U com distribuições diferentes\n",
    "O teste de Mann-Whitney U é um teste não paramétrico utilizado para comparar medianas de dois grupos independentes. Contudo, ele assume que as distribuições dodois grupos possuem a mesma forma. Neste caso, estamos comparando uma distribuição normal e uma exponencial, que possuem formatos distintos. Isso pode fazer coque o teste interprete erroneamente diferenças que são decorrentes da distribuição dos dados, e não de um real efeito. Para corrigir isso, seria ideatransformar os dados ou utilizar um teste de permutação, que pode lidar melhor com distribuições assimétricas.\n"
   ]
  },
  {
   "cell_type": "code",
   "execution_count": 3,
   "metadata": {},
   "outputs": [
    {
     "name": "stdout",
     "output_type": "stream",
     "text": [
      "Teste de Mann-Whitney U: 2.180483153944266e-27\n"
     ]
    }
   ],
   "source": [
    "grupo1 = np.random.normal(loc=50, scale=10, size=1000)\n",
    "grupo2 = np.random.exponential(scale=50, size=1000)\n",
    "u_stat, p_value = stats.mannwhitneyu(grupo1, grupo2, alternative='two-sided')\n",
    "print(\"Teste de Mann-Whitney U:\", p_value)"
   ]
  },
  {
   "cell_type": "markdown",
   "metadata": {},
   "source": [
    " ## Teste 3: Correlação de Pearson com relação não linear\n",
    "O coeficiente de correlação de Pearson mede a força da relação linear entre duas variáveis. No entanto, os dados analisados possuem uma relação quadrática, que faz com que a correlação de Pearson subestime a real associação entre as variáveis. Esse problema ocorre porque Pearson só captura relações linearesignorando associações não lineares. Para resolver isso, a correlação de Spearman, que mede relações monotônicas, seria uma melhor escolha, pois detectassociações não necessariamente lineares.\n"
   ]
  },
  {
   "cell_type": "code",
   "execution_count": 4,
   "metadata": {},
   "outputs": [
    {
     "name": "stdout",
     "output_type": "stream",
     "text": [
      "Correlação de Pearson: 0.0006298465253848765 0.984129058902337\n"
     ]
    }
   ],
   "source": [
    "x = np.linspace(-10, 10, 1000)\n",
    "y = x**2 + np.random.normal(0, 5, size=len(x)) # Relação quadrática\n",
    "corr, p_value = stats.pearsonr(x, y)\n",
    "print(\"Correlação de Pearson:\", corr, p_value)"
   ]
  },
  {
   "cell_type": "markdown",
   "metadata": {},
   "source": [
    "## Teste 4: ANOVA com dados exponenciais\n",
    "A ANOVA (Análise de Variância) é um teste paramétrico que compara as médias de três ou mais grupos, assumindo que os dados seguem uma distribuição normal e que as variâncias dos grupos são homogêneas. Neste caso, os dados são provenientes de distribuições exponenciais, que violam ambas as suposições. Como resultado, os valores-p obtidos podem ser enganosos. Para solucionar esse problema, seria mais apropriado utilizar o teste de Kruskal-Wallis, uma alternativa não paramétrica à ANOVA, que não exige normalidade nem homocedasticidade.\n"
   ]
  },
  {
   "cell_type": "code",
   "execution_count": 5,
   "metadata": {},
   "outputs": [
    {
     "name": "stdout",
     "output_type": "stream",
     "text": [
      "ANOVA: 0.2557023707636055\n"
     ]
    }
   ],
   "source": [
    "grupo1 = np.random.exponential(50, 1000)\n",
    "grupo2 = np.random.exponential(50, 1000)\n",
    "grupo3 = np.random.exponential(50, 1000)\n",
    "f_stat, p_value = stats.f_oneway(grupo1, grupo2, grupo3)\n",
    "print(\"ANOVA:\", p_value)\n"
   ]
  },
  {
   "cell_type": "markdown",
   "metadata": {},
   "source": [
    "## Teste 5: Teste t com valores NaN\n",
    "O teste t não pode ser executado corretamente se houver valores NaN (ausentes) nos conjuntos de dados. Quando esses valores não são tratados, o teste simplesmente falha ou retorna um resultado inválido. O código fornecido utiliza `nan_policy='propagate'`, o que faz com que qualquer NaN no conjunto de dados se propague e inviabilize a execução do teste. Para corrigir isso, é necessário remover os valores NaN antes de executar o teste ou substituir os valores ausentes por alguma estimativa adequada (por exemplo, a média do grupo).\n"
   ]
  },
  {
   "cell_type": "code",
   "execution_count": 6,
   "metadata": {},
   "outputs": [
    {
     "name": "stdout",
     "output_type": "stream",
     "text": [
      "Teste t com NaNs: nan\n"
     ]
    }
   ],
   "source": [
    "import numpy as np\n",
    "import scipy.stats as stats\n",
    "np.random.seed(42)\n",
    "grupo1 = np.random.normal(50, 10, 1000)\n",
    "grupo2 = np.random.normal(50, 10, 1000)\n",
    "grupo1[::50] = np.nan # Inserindo NaNs\n",
    "t_stat, p_value = stats.ttest_ind(grupo1, grupo2, nan_policy='propagate')\n",
    "print(\"Teste t com NaNs:\", p_value)\n"
   ]
  },
  {
   "cell_type": "markdown",
   "metadata": {},
   "source": [
    "## Teste 6: Mann-Whitney U com tamanhos de amostra diferentes\n",
    "O teste de Mann-Whitney U pode ser sensível a tamanhos de amostra muito diferentes. Como esse teste se baseia na ordenação dos dados, um grupo muito menor pode não ter variabilidade suficiente para ser comparado de forma justa com o grupo maior. Isso pode resultar em um viés na estatística U, tornando os resultados menos confiáveis. Para resolver isso, recomenda-se garantir que os tamanhos das amostras sejam mais equilibrados ou utilizar um teste de permutação para garantir robustez na comparação.\n"
   ]
  },
  {
   "cell_type": "code",
   "execution_count": 7,
   "metadata": {},
   "outputs": [
    {
     "name": "stdout",
     "output_type": "stream",
     "text": [
      "Teste de Mann-Whitney U com tamanhos diferentes: 0.20513517877136755\n"
     ]
    }
   ],
   "source": [
    "grupo1 = np.random.normal(50, 10, 1000)\n",
    "grupo2 = np.random.normal(50, 10, 50)\n",
    "u_stat, p_value = stats.mannwhitneyu(grupo1, grupo2)\n",
    "print(\"Teste de Mann-Whitney U com tamanhos diferentes:\", p_value)\n"
   ]
  },
  {
   "cell_type": "markdown",
   "metadata": {},
   "source": [
    " ## Teste 7: Correlação de Spearman com valores repetidos\n",
    "O coeficiente de correlação de Spearman mede a relação monotônica entre duas variáveis e é baseado na ordenação dos dados. No entanto, quando há poucos valores distintos em uma das variáveis (como no caso do vetor `x`, que tem apenas dois valores diferentes), a correlação pode perder precisão e fornecer um valor pouco informativo. Isso ocorre porque a ordenação dos dados fica comprometida devido à falta de variabilidade. Para corrigir isso, pode-se utilizar o coeficiente de Kendall’s Tau, que é mais adequado para conjuntos de dados com empates frequentes.\n"
   ]
  },
  {
   "cell_type": "code",
   "execution_count": 8,
   "metadata": {},
   "outputs": [
    {
     "name": "stdout",
     "output_type": "stream",
     "text": [
      "Correlação de Spearman com valores repetidos: -0.0006928206694379722 0.9825424709555597\n"
     ]
    }
   ],
   "source": [
    "x = np.array([1]*500 + [2]*500) # Poucos valores distintos\n",
    "y = np.random.rand(1000)\n",
    "corr, p_value = stats.spearmanr(x, y)\n",
    "print(\"Correlação de Spearman com valores repetidos:\", corr, p_value)"
   ]
  },
  {
   "cell_type": "markdown",
   "metadata": {},
   "source": [
    "## Teste 8: ANOVA sem homocedasticidade\n",
    "A ANOVA tradicional assume que os grupos possuem variâncias homogêneas (homocedasticidade). No entanto, neste caso, os grupos possuem variâncias drasticamente diferentes, o que pode distorcer os resultados e comprometer a confiabilidade da análise. Isso significa que o teste pode identificar diferenças significativas que são apenas reflexo da variação da dispersão dos dados e não das médias em si. Para solucionar esse problema, recomenda-se o uso da ANOVA de Welch, que é uma versão da ANOVA que não exige a suposição de homocedasticidade.\n"
   ]
  },
  {
   "cell_type": "code",
   "execution_count": 9,
   "metadata": {},
   "outputs": [
    {
     "name": "stdout",
     "output_type": "stream",
     "text": [
      "ANOVA sem homocedasticidade: 0.30603204707423126\n"
     ]
    }
   ],
   "source": [
    "grupo1 = np.random.normal(50, 5, 1000)\n",
    "grupo2 = np.random.normal(50, 20, 1000) # Variância maior\n",
    "grupo3 = np.random.normal(50, 50, 1000) # Variância ainda maior\n",
    "f_stat, p_value = stats.f_oneway(grupo1, grupo2, grupo3)\n",
    "print(\"ANOVA sem homocedasticidade:\", p_value)\n"
   ]
  },
  {
   "cell_type": "markdown",
   "metadata": {},
   "source": [
    "## Teste 9: Teste de Kruskal-Wallis com distribuições diferentes\n",
    "O teste de Kruskal-Wallis é um teste não paramétrico utilizado para comparar três ou mais grupos. Ele assume que todas as distribuições possuem formas semelhantes, variando apenas em sua mediana. No entanto, no exemplo dado, os dados vêm de distribuições muito diferentes (normal, exponencial e uniforme), o que pode afetar a validade do teste. Se as distribuições forem muito distintas, o teste pode não ser apropriado. Para corrigir esse problema, recomenda-se avaliar previamente a distribuição dos dados e considerar testes mais robustos, como um teste de permutação ou modelagem bayesiana.\n"
   ]
  },
  {
   "cell_type": "code",
   "execution_count": 10,
   "metadata": {},
   "outputs": [
    {
     "name": "stdout",
     "output_type": "stream",
     "text": [
      "Teste de Kruskal-Wallis com distribuições diferentes: 1.7665886895697778e-16\n"
     ]
    }
   ],
   "source": [
    "grupo1 = np.random.normal(50, 10, 1000)\n",
    "grupo2 = np.random.exponential(50, 1000)\n",
    "grupo3 = np.random.uniform(0, 100, 1000)\n",
    "h_stat, p_value = stats.kruskal(grupo1, grupo2, grupo3)\n",
    "print(\"Teste de Kruskal-Wallis com distribuições diferentes:\", p_value)"
   ]
  }
 ],
 "metadata": {
  "kernelspec": {
   "display_name": "Python 3",
   "language": "python",
   "name": "python3"
  },
  "language_info": {
   "codemirror_mode": {
    "name": "ipython",
    "version": 3
   },
   "file_extension": ".py",
   "mimetype": "text/x-python",
   "name": "python",
   "nbconvert_exporter": "python",
   "pygments_lexer": "ipython3",
   "version": "3.8.10"
  }
 },
 "nbformat": 4,
 "nbformat_minor": 2
}
