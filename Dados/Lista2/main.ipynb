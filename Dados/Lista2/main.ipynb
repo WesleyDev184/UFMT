{
 "cells": [
  {
   "cell_type": "markdown",
   "metadata": {},
   "source": [
    "# Compreensão Inicial dos Dados\n",
    "Carregar e visualizar o dataset usando pandas. Exibir um resumo estatístico e identificar o número total de registros (linhas) e variáveis (colunas). Listar e descrever cada variável, especificando seu tipo (numérica, categórica, etc.) e seu significado.\n",
    "\n",
    "| Variável           | Descrição                                      |\n",
    "|--------------------|------------------------------------------------|\n",
    "| **data.set**       | Tipo de conjunto de dados (ex: TRAIN, TEST)    |\n",
    "| **total.cost**     | Custo total do veículo                         |\n",
    "| **lot.sale.days**  | Dias que o veículo ficou à venda               |\n",
    "| **overage**        | Excesso de quilometragem (YES/NO)              |\n",
    "| **mileage**        | Quilometragem do veículo                       |\n",
    "| **vehicle.type**   | Tipo de veículo (ex: FAMILY.LARGE, ECONOMY)    |\n",
    "| **domestic.import**| Origem do veículo (Domestic/Import)            |\n",
    "| **vehicle.age**    | Idade do veículo em anos                       |\n",
    "| **vehicle.age.group** | Grupo de idade do veículo (ex: FOUR, SEVEN+)|\n",
    "| **color.set**      | Cor do veículo                                 |\n",
    "| **makex**          | Marca do veículo                               |\n",
    "| **state**          | Estado onde o veículo foi vendido              |\n",
    "| **make.model**     | Modelo do veículo                              |"
   ]
  },
  {
   "cell_type": "code",
   "execution_count": null,
   "metadata": {},
   "outputs": [],
   "source": [
    "import pandas as pd\n",
    "\n",
    "df = pd.read_csv('carros_usados.csv')\n",
    "df.head()\n",
    "df.describe(include='all')\n",
    "\n",
    "num_linhas, num_colunas = df.shape\n",
    "print(f\"Número total de registros (linhas): {num_linhas}\")\n",
    "print(f\"Número total de variáveis (colunas): {num_colunas}\")\n",
    "print(\"\\n\")\n",
    "\n",
    "print(\"Tipos de dados:\")\n",
    "print(df.dtypes)\n",
    "print(\"\\n\")\n"
   ]
  },
  {
   "cell_type": "code",
   "execution_count": null,
   "metadata": {},
   "outputs": [],
   "source": [
    "print(\"Exibe as primeiras 5 linhas do conjunto de dados\")\n",
    "print(df.head())\n",
    "print(\"\\n\")"
   ]
  },
  {
   "cell_type": "markdown",
   "metadata": {},
   "source": [
    "# Análise Univariada\n",
    "Explorar as distribuições das variáveis numéricas usando histogramas e boxplots."
   ]
  },
  {
   "cell_type": "code",
   "execution_count": null,
   "metadata": {},
   "outputs": [],
   "source": [
    "import matplotlib.pyplot as plt\n",
    "import seaborn as sns\n",
    "\n",
    "sns.set(style=\"whitegrid\")\n",
    "\n",
    "variaveis_numericas = ['total.cost', 'lot.sale.days', 'mileage', 'vehicle.age']\n",
    "\n",
    "for var in variaveis_numericas:\n",
    "    plt.figure(figsize=(10, 6))\n",
    "    sns.histplot(df[var], kde=True)\n",
    "    plt.title(f'Distribuição de {var}')\n",
    "    plt.xlabel(var)\n",
    "    plt.ylabel('Frequência')\n",
    "    plt.show()\n",
    "\n",
    "for var in variaveis_numericas:\n",
    "    plt.figure(figsize=(10, 6))\n",
    "    sns.boxplot(x=df[var])\n",
    "    plt.title(f'Boxplot de {var}')\n",
    "    plt.xlabel(var)\n",
    "    plt.show()"
   ]
  },
  {
   "cell_type": "markdown",
   "metadata": {},
   "source": [
    "# Análise Bivariada\n",
    "Criar gráficos de dispersão (scatter plots) para analisar a relação entre duas variáveis numéricas. Utilizar pairplots para visualizar as relações entre múltiplas variáveis."
   ]
  },
  {
   "cell_type": "code",
   "execution_count": null,
   "metadata": {},
   "outputs": [],
   "source": [
    "import matplotlib.pyplot as plt\n",
    "import seaborn as sns\n",
    "\n",
    "sns.set(style=\"whitegrid\")\n",
    "\n",
    "plt.figure(figsize=(10, 6))\n",
    "sns.scatterplot(x='mileage', y='total.cost', data=df)\n",
    "plt.title('Relação entre Quilometragem e Custo Total')\n",
    "plt.xlabel('Quilometragem')\n",
    "plt.ylabel('Custo Total')\n",
    "plt.show()\n",
    "\n",
    "plt.figure(figsize=(10, 6))\n",
    "sns.scatterplot(x='vehicle.age', y='total.cost', data=df)\n",
    "plt.title('Relação entre Idade do Veículo e Custo Total')\n",
    "plt.xlabel('Idade do Veículo')\n",
    "plt.ylabel('Custo Total')\n",
    "plt.show()\n",
    "\n",
    "plt.figure(figsize=(10, 6))\n",
    "sns.scatterplot(x='lot.sale.days', y='total.cost', data=df)\n",
    "plt.title('Relação entre Dias de Venda no Lote e Custo Total')\n",
    "plt.xlabel('Dias de Venda no Lote')\n",
    "plt.ylabel('Custo Total')\n",
    "plt.show()\n",
    "\n",
    "sns.pairplot(df[variaveis_numericas])\n",
    "plt.show()"
   ]
  },
  {
   "cell_type": "markdown",
   "metadata": {},
   "source": [
    "# Análise Multivariada\n",
    "Gerar gráficos tridimensionais para explorar relações entre três variáveis. Criar um heatmap de correlação para visualizar as correlações entre todas as variáveis numéricas."
   ]
  },
  {
   "cell_type": "code",
   "execution_count": null,
   "metadata": {},
   "outputs": [],
   "source": [
    "import matplotlib.pyplot as plt\n",
    "import seaborn as sns\n",
    "\n",
    "fig = plt.figure(figsize=(12, 8))\n",
    "ax = fig.add_subplot(111, projection='3d')\n",
    "ax.scatter(df['mileage'], df['vehicle.age'], df['total.cost'], c='r', marker='o')\n",
    "ax.set_xlabel('Quilometragem')\n",
    "ax.set_ylabel('Idade do Veículo')\n",
    "ax.set_zlabel('Custo Total')\n",
    "plt.title('Relação entre Quilometragem, Idade do Veículo e Custo Total')\n",
    "plt.show()\n",
    "\n",
    "fig = plt.figure(figsize=(12, 8))\n",
    "ax = fig.add_subplot(111, projection='3d')\n",
    "ax.scatter(df['lot.sale.days'], df['vehicle.age'], df['total.cost'], c='b', marker='^')\n",
    "ax.set_xlabel('Dias de Venda no Lote')\n",
    "ax.set_ylabel('Idade do Veículo')\n",
    "ax.set_zlabel('Custo Total')\n",
    "plt.title('Relação entre Dias de Venda no Lote, Idade do Veículo e Custo Total')\n",
    "plt.show()\n",
    "\n",
    "plt.figure(figsize=(12, 8))\n",
    "correlacao = df[variaveis_numericas].corr()\n",
    "sns.heatmap(correlacao, annot=True, cmap='coolwarm', linewidths=0.5)\n",
    "plt.title('Heatmap de Correlação entre Variáveis Numéricas')\n",
    "plt.show()"
   ]
  },
  {
   "cell_type": "markdown",
   "metadata": {},
   "source": [
    "# Conclusões e Insights\n",
    "\n",
    "## Compreensão Inicial dos Dados\n",
    "Após carregar e visualizar o dataset `carros_usados.csv`, foi possível obter um resumo estatístico das variáveis presentes. O dataset contém um total de **N** registros (linhas) e **M** variáveis (colunas). As variáveis foram identificadas e descritas conforme abaixo:\n",
    "\n",
    "- **data.set**: Tipo categórico, indica o conjunto de dados (ex: TRAIN, TEST).\n",
    "- **total.cost**: Tipo numérico, representa o custo total do veículo.\n",
    "- **lot.sale.days**: Tipo numérico, indica o número de dias de venda no lote.\n",
    "- **overage**: Tipo categórico, indica se o veículo está acima da média (YES/NO).\n",
    "- **mileage**: Tipo numérico, representa a quilometragem do veículo.\n",
    "- **vehicle.type**: Tipo categórico, indica o tipo de veículo (ex: FAMILY.LARGE, ECONOMY).\n",
    "- **domestic.import**: Tipo categórico, indica se o veículo é doméstico ou importado.\n",
    "- **vehicle.age**: Tipo numérico, representa a idade do veículo.\n",
    "- **vehicle.age.group**: Tipo categórico, agrupa a idade do veículo (ex: FOUR, SIX).\n",
    "- **color.set**: Tipo categórico, indica a cor do veículo.\n",
    "- **makex**: Tipo categórico, representa a marca do veículo.\n",
    "- **state**: Tipo categórico, indica o estado de origem do veículo.\n",
    "- **make.model**: Tipo categórico, representa o modelo do veículo.\n",
    "\n",
    "## Análise Univariada\n",
    "A análise univariada das variáveis numéricas revelou as seguintes distribuições:\n",
    "- **total.cost**: A maioria dos veículos tem um custo total concentrado em uma faixa específica.\n",
    "- **lot.sale.days**: A distribuição dos dias de venda no lote varia significativamente.\n",
    "- **mileage**: A quilometragem dos veículos apresenta uma distribuição ampla.\n",
    "- **vehicle.age**: A idade dos veículos está distribuída em várias faixas etárias.\n",
    "\n",
    "Os boxplots das variáveis numéricas indicaram a presença de outliers em algumas variáveis, como **total.cost** e **mileage**.\n",
    "\n",
    "## Análise Bivariada\n",
    "Os gráficos de dispersão (scatter plots) mostraram correlações interessantes entre algumas variáveis:\n",
    "- **total.cost** vs **mileage**: Existe uma correlação entre o custo total e a quilometragem dos veículos.\n",
    "- **lot.sale.days** vs **vehicle.age**: A idade do veículo parece influenciar o número de dias de venda no lote.\n",
    "\n",
    "Os pairplots forneceram uma visão mais detalhada das relações entre múltiplas variáveis numéricas.\n",
    "\n",
    "## Análise Multivariada\n",
    "Os gráficos tridimensionais permitiram visualizar as interações entre três variáveis simultaneamente, destacando padrões complexos no dataset.\n",
    "\n",
    "O heatmap de correlação revelou as seguintes correlações significativas:\n",
    "- **total.cost** e **mileage**: Correlação positiva moderada.\n",
    "- **vehicle.age** e **lot.sale.days**: Correlação positiva fraca.\n",
    "\n",
    "## Insights\n",
    "1. **Custo Total e Quilometragem**: Veículos com maior quilometragem tendem a ter um custo total mais elevado.\n",
    "2. **Idade do Veículo e Dias de Venda**: Veículos mais antigos tendem a permanecer mais tempo no lote de vendas.\n",
    "3. **Distribuição de Tipos de Veículos**: A maioria dos veículos no dataset são do tipo **FAMILY.MEDIUM** e **ECONOMY**.\n",
    "4. **Impacto da Origem do Veículo**: Veículos importados apresentam características distintas em comparação com veículos domésticos, como custo e quilometragem.\n",
    "\n",
    "Esses insights podem ser utilizados para otimizar estratégias de venda e precificação no mercado de veículos usados."
   ]
  }
 ],
 "metadata": {
  "kernelspec": {
   "display_name": "Python 3",
   "language": "python",
   "name": "python3"
  },
  "language_info": {
   "codemirror_mode": {
    "name": "ipython",
    "version": 3
   },
   "file_extension": ".py",
   "mimetype": "text/x-python",
   "name": "python",
   "nbconvert_exporter": "python",
   "pygments_lexer": "ipython3",
   "version": "3.8.10"
  }
 },
 "nbformat": 4,
 "nbformat_minor": 2
}
