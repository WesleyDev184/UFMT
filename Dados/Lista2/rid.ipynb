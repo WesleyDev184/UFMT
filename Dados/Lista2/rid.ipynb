{
 "cells": [
  {
   "cell_type": "markdown",
   "id": "5999b807",
   "metadata": {},
   "source": [
    "# Análise do Dataset Iris\n",
    "\n",
    "Este notebook realiza análises e visualizações utilizando o dataset **Iris**.\n",
    "Nosso roteiro:\n",
    "1. **Compreensão Inicial dos Dados**\n",
    "   - Carregar e visualizar o dataset\n",
    "   - Resumo estatístico\n",
    "\n",
    "2. **Análise Univariada**\n",
    "   - Distribuições das variáveis numéricas\n",
    "   - Boxplots\n",
    "\n",
    "3. **Análise Bivariada**\n",
    "   - Gráficos de dispersão (Scatter plots)\n",
    "   - Pairplots\n",
    "\n",
    "4. **Análise Multivariada**\n",
    "   - Gráficos tridimensionais\n",
    "   - Heatmap de correlação\n",
    "\n",
    "5. **Conclusões e Insights**"
   ]
  },
  {
   "cell_type": "code",
   "execution_count": null,
   "id": "f1fa5e4e",
   "metadata": {},
   "outputs": [],
   "source": [
    "import pandas as pd\n",
    "import seaborn as sns\n",
    "import matplotlib.pyplot as plt"
   ]
  },
  {
   "cell_type": "markdown",
   "id": "fbd9a7ca",
   "metadata": {},
   "source": [
    "# 1. Compreensão Inicial dos Dados\n"
   ]
  },
  {
   "cell_type": "markdown",
   "id": "d07975f7",
   "metadata": {},
   "source": [
    "## Carregar o Dataset e Visualizar os Dados"
   ]
  },
  {
   "cell_type": "code",
   "execution_count": null,
   "id": "459280e9",
   "metadata": {},
   "outputs": [],
   "source": [
    "# Carregar o dataset Iris do seaborn\n",
    "iris = sns.load_dataset(\"iris\")\n",
    "\n",
    "# Exibir as 5 primeiras linhas do dataset\n",
    "print(\"Primeiras 5 linhas do dataset:\")\n",
    "print(iris.head())"
   ]
  },
  {
   "cell_type": "code",
   "execution_count": null,
   "id": "c03490b2",
   "metadata": {},
   "outputs": [],
   "source": [
    "iris.info()"
   ]
  },
  {
   "cell_type": "code",
   "execution_count": null,
   "id": "d94a8fe1",
   "metadata": {},
   "outputs": [],
   "source": [
    "iris['species'].value_counts()"
   ]
  },
  {
   "cell_type": "markdown",
   "id": "f32d234d",
   "metadata": {},
   "source": [
    "**Consultando dados nulos ou Missing Values no Dataframe**\n"
   ]
  },
  {
   "cell_type": "code",
   "execution_count": null,
   "id": "0aa5cad5",
   "metadata": {},
   "outputs": [],
   "source": [
    "iris.isnull().sum()"
   ]
  },
  {
   "cell_type": "markdown",
   "id": "740b7b5a",
   "metadata": {},
   "source": [
    "## Tipo do Objeto carregado"
   ]
  },
  {
   "cell_type": "code",
   "execution_count": null,
   "id": "efbd9af4",
   "metadata": {},
   "outputs": [],
   "source": [
    "type(iris)"
   ]
  },
  {
   "cell_type": "markdown",
   "id": "9b0e8f09",
   "metadata": {},
   "source": [
    "## Estatísticas Descritivas"
   ]
  },
  {
   "cell_type": "code",
   "execution_count": null,
   "id": "92f24e15",
   "metadata": {},
   "outputs": [],
   "source": [
    "# Exibir estatísticas descritivas\n",
    "print(\"\\nEstatísticas descritivas:\")\n",
    "print(iris.describe())"
   ]
  },
  {
   "cell_type": "markdown",
   "id": "3a35ca96",
   "metadata": {},
   "source": [
    "## Lista das espécies únicas no dataset"
   ]
  },
  {
   "cell_type": "code",
   "execution_count": null,
   "id": "4b8efdab",
   "metadata": {},
   "outputs": [],
   "source": [
    "iris['species'].unique()"
   ]
  },
  {
   "cell_type": "markdown",
   "id": "c13e58ce",
   "metadata": {},
   "source": [
    "## Filtrar Dados: Espécie 'setosa'"
   ]
  },
  {
   "cell_type": "code",
   "execution_count": null,
   "id": "03afb25b",
   "metadata": {},
   "outputs": [],
   "source": [
    "# Filtrar dados: Selecionar apenas as amostras da espécie 'setosa'\n",
    "setosa = iris[iris['species'] == 'setosa']\n",
    "print(\"\\nAmostras da espécie 'setosa':\")\n",
    "print(setosa.head())"
   ]
  },
  {
   "cell_type": "markdown",
   "id": "302dfe4a",
   "metadata": {},
   "source": [
    "# 2. Análise Univariada"
   ]
  },
  {
   "cell_type": "markdown",
   "id": "1e996f21",
   "metadata": {},
   "source": [
    "## Distribuições das variáveis numéricas"
   ]
  },
  {
   "cell_type": "code",
   "execution_count": null,
   "id": "64dcfa86",
   "metadata": {},
   "outputs": [],
   "source": [
    "sns.displot(data=iris, x='sepal_length', kde=True, hue=\"species\")\n"
   ]
  },
  {
   "cell_type": "markdown",
   "id": "0269e4d9",
   "metadata": {},
   "source": [
    "### Gráfico de densidade (sns.kdeplot) para todas espécies"
   ]
  },
  {
   "cell_type": "code",
   "execution_count": null,
   "id": "a7d3a9c8",
   "metadata": {},
   "outputs": [],
   "source": [
    "sns.kdeplot(data=iris, x='sepal_length', hue='species', fill=True)\n"
   ]
  },
  {
   "cell_type": "markdown",
   "id": "eef21cdd",
   "metadata": {},
   "source": [
    "## Conclusão do Gráfico de densidade (sns.kdeplot)\n",
    "\n",
    "### Para o comprimento da sépala (`sepal_length`):\n",
    "- **Iris setosa**: Geralmente apresenta valores menores e um padrão bem distinto, com pouca sobreposição em relação às outras espécies.\n",
    "- **Iris versicolor** e **Iris virginica**: Podem ter distribuições mais próximas, resultando em uma leve sobreposição das curvas.\n",
    "\n",
    "### Para o comprimento da pétala (`petal_length`):\n",
    "- **Iris setosa**: A curva geralmente se destaca, pois as pétalas dessa espécie são significativamente menores.\n",
    "- **Iris versicolor** e **Iris virginica**: Diferem em média, mas há uma maior sobreposição em comparação ao comprimento das sépalas."
   ]
  },
  {
   "cell_type": "markdown",
   "id": "87a16076",
   "metadata": {},
   "source": [
    "### Histograma"
   ]
  },
  {
   "cell_type": "code",
   "execution_count": null,
   "id": "f7e279ee",
   "metadata": {},
   "outputs": [],
   "source": [
    "sns.histplot(data=iris, x='sepal_length', hue='species', fill=True, common_norm=False)\n",
    "\n",
    "# sns.histplot(data=iris, x=\"sepal_length\", kde=True, bins=20, color=\"blue\")\n",
    "plt.title('Distribuição do Comprimento das Sépalas por Espécie')\n",
    "plt.show()"
   ]
  },
  {
   "cell_type": "markdown",
   "id": "ce64a459",
   "metadata": {},
   "source": [
    "### Boxplot: Comprimento das Pétalas por Espécie"
   ]
  },
  {
   "cell_type": "code",
   "execution_count": null,
   "id": "b87a2b8c",
   "metadata": {},
   "outputs": [],
   "source": [
    "sns.boxplot(data=iris, x='species', y='petal_length')\n"
   ]
  },
  {
   "cell_type": "markdown",
   "id": "172d15e8",
   "metadata": {},
   "source": [
    "## Conclusão do gráfico Boxplot: Comprimento das Pétalas por Espécie\n",
    "\n",
    "- **Iris setosa**: Apresenta uma distribuição mais compacta e com valores menores para o comprimento das pétalas. O boxplot mostra que a maioria das amostras estão concentradas em torno de valores baixos, com pouca variabilidade.\n",
    "\n",
    "- **Iris versicolor**: Tem uma faixa maior de comprimento das pétalas, com o boxplot indicando uma distribuição mais espalhada em comparação com a Iris setosa. A mediana está mais alta e o intervalo interquartil (IQR) é maior, indicando maior variabilidade.\n",
    "\n",
    "- **Iris virginica**: Similar à Iris versicolor, mas com uma mediana ainda mais alta, sugerindo que o comprimento das pétalas dessa espécie é, em média, maior. O IQR também é considerável, mostrando uma variabilidade notável.\n",
    "\n",
    "- **Comparações entre as espécies**: O boxplot revela que **Iris setosa** tem os menores comprimentos de pétalas, enquanto **Iris versicolor** e **Iris virginica** têm comprimentos de pétalas maiores, com uma ligeira sobreposição entre elas, mas com **Iris virginica** apresentando valores mais altos em geral.\n",
    "\n",
    "O gráfico ajuda a visualizar claramente a diferença entre as espécies e a distribuição dos dados em termos de variabilidade e tendência central."
   ]
  },
  {
   "cell_type": "markdown",
   "id": "dce03ae9",
   "metadata": {},
   "source": [
    "## Agrupar por espécie e calcular a média de cada coluna numérica"
   ]
  },
  {
   "cell_type": "code",
   "execution_count": null,
   "id": "637de718",
   "metadata": {},
   "outputs": [],
   "source": [
    "\n",
    "media_por_especie = iris.groupby('species').mean()\n",
    "print(\"\\nMédias por espécie:\")\n",
    "print(media_por_especie)"
   ]
  },
  {
   "cell_type": "markdown",
   "id": "e2959f30",
   "metadata": {},
   "source": [
    "# 3. Análise Bivariada"
   ]
  },
  {
   "cell_type": "markdown",
   "id": "c7acbffb",
   "metadata": {},
   "source": [
    "## Gráfico de Dispersão: Sepal Length vs Sepal Width"
   ]
  },
  {
   "cell_type": "code",
   "execution_count": null,
   "id": "da31c374",
   "metadata": {},
   "outputs": [],
   "source": [
    "plt.figure(figsize=(8, 6))\n",
    "sns.scatterplot(data=iris, x='sepal_length', y='sepal_width', hue='species', style='species')\n",
    "plt.title('Gráfico de Dispersão: Sepal Length vs Sepal Width')\n",
    "plt.xlabel('Sepal Length (cm)')\n",
    "plt.ylabel('Sepal Width (cm)')\n",
    "plt.legend(title='Espécie')\n",
    "plt.show()"
   ]
  },
  {
   "cell_type": "markdown",
   "id": "850d7034",
   "metadata": {},
   "source": [
    "## Conclusão do Gráfico de Dispersão: Sepal Length vs Sepal Width\n",
    "\n",
    "- **Distribuição das espécies**: O gráfico de dispersão revela que as espécies de flores apresentam padrões distintos, com **Iris setosa** sendo claramente separada das outras duas espécies. As amostras de **Iris setosa** têm uma combinação de comprimento e largura da sépala menores, formando um grupo compacto no gráfico.\n",
    "\n",
    "- **Iris versicolor e Iris virginica**: As duas espécies apresentam maior sobreposição entre si. Embora ambas tenham valores de comprimento e largura das sépalas maiores que **Iris setosa**, a separação entre elas não é tão pronunciada. **Iris virginica** tende a ter valores ligeiramente maiores para o comprimento da sépala, mas a sobreposição entre **Iris versicolor** e **Iris virginica** pode dificultar a distinção visual clara apenas por essas duas características.\n",
    "\n",
    "- **Correlação**: Pode-se observar que, para a maioria das espécies, existe uma correlação positiva entre o comprimento e a largura da sépala, ou seja, à medida que o comprimento da sépala aumenta, a largura também tende a aumentar. No entanto, essa relação não é perfeitamente linear.\n",
    "\n",
    "- **Outliers**: É possível que existam alguns pontos que se destacam como outliers, especialmente para as espécies **Iris versicolor** e **Iris virginica**, indicando possíveis anomalias ou variações fora do padrão geral.\n",
    "\n",
    "Este gráfico de dispersão ajuda a identificar padrões, sobreposições e possíveis tendências nas características das sépalas das diferentes espécies do dataset Iris."
   ]
  },
  {
   "cell_type": "markdown",
   "id": "f6e62a77",
   "metadata": {},
   "source": [
    "## Pairplot: Todas as combinações possíveis em um único gráfico"
   ]
  },
  {
   "cell_type": "code",
   "execution_count": null,
   "id": "a33c3605",
   "metadata": {},
   "outputs": [],
   "source": [
    "sns.pairplot(iris, hue='species', diag_kind='kde')\n"
   ]
  },
  {
   "cell_type": "markdown",
   "id": "5696bb18",
   "metadata": {},
   "source": [
    "## Conclusões do Pairplot: Todas as Combinações Possíveis\n",
    "\n",
    "- **Separação das espécies**:\n",
    "  - **Iris setosa**: Apresenta uma separação bem definida em relação às outras espécies. Suas características (como comprimento e largura das sépalas e pétalas) formam grupos compactos e visivelmente distintos, especialmente quando comparada com **Iris versicolor** e **Iris virginica**.\n",
    "  - **Iris versicolor e Iris virginica**: Embora haja alguma sobreposição entre essas duas espécies, é possível notar que **Iris virginica** tende a apresentar valores maiores para o comprimento e largura das pétalas, enquanto **Iris versicolor** tem valores um pouco menores. Porém, a sobreposição pode dificultar a distinção visual clara entre elas em algumas combinações de variáveis.\n",
    "\n",
    "- **Relações entre as variáveis**:\n",
    "  - Existe uma correlação positiva entre as variáveis em várias combinações, como entre o **comprimento da sépala** e o **comprimento da pétala**, sugerindo que, em geral, um aumento no comprimento da sépala tende a acompanhar um aumento no comprimento da pétala.\n",
    "  - As variáveis de **largura da sépala** e **largura da pétala** mostram uma correlação mais fraca com outras variáveis, com uma distribuição mais dispersa e com maior sobreposição entre as espécies.\n",
    "\n",
    "- **Distribuição das características**:\n",
    "  - Nos histogramas da diagonal do pairplot, observa-se que **Iris setosa** tem distribuições bem concentradas para o comprimento e a largura das pétalas, enquanto **Iris versicolor** e **Iris virginica** apresentam uma maior variabilidade nessas características.\n",
    "\n",
    "- **Outliers**:\n",
    "  - Não há muitos outliers evidentes no pairplot, o que indica que os dados são relativamente consistentes dentro de cada espécie. No entanto, em algumas combinações de variáveis, pequenas variações podem ser observadas.\n",
    "\n",
    "- **Visualização das relações**:\n",
    "  - O pairplot é útil para visualizar como as diferentes variáveis se correlacionam entre si e como as espécies de flores se separam ou se sobrepõem em diferentes combinações dessas variáveis."
   ]
  },
  {
   "cell_type": "markdown",
   "id": "e7b78a87",
   "metadata": {},
   "source": [
    "# 4. Análise Multivariada"
   ]
  },
  {
   "cell_type": "markdown",
   "id": "d6f36331",
   "metadata": {},
   "source": [
    "## Gráficos tridimensionais:\n"
   ]
  },
  {
   "cell_type": "code",
   "execution_count": null,
   "id": "800b70fa",
   "metadata": {},
   "outputs": [],
   "source": [
    "from mpl_toolkits.mplot3d import Axes3D\n",
    "fig = plt.figure()\n",
    "ax = fig.add_subplot(111, projection='3d')\n",
    "ax.scatter(iris['sepal_length'], iris['sepal_width'], iris['petal_length'], c=iris['species'].astype('category').cat.codes)\n",
    "plt.show()"
   ]
  },
  {
   "cell_type": "markdown",
   "id": "c43cfb62",
   "metadata": {},
   "source": [
    "## Conclusões do Gráfico 3D: Sepal Length vs Sepal Width vs Petal Length\n",
    "\n",
    "- **Visualização das Espécies**:\n",
    "  - O gráfico 3D permite visualizar como as espécies de **Iris** se distribuem em um espaço tridimensional, considerando as variáveis **comprimento da sépala (sepal_length)**, **largura da sépala (sepal_width)** e **comprimento da pétala (petal_length)**.\n",
    "  - As cores no gráfico representam as diferentes espécies, com cada espécie (Setosa, Versicolor, Virginica) sendo identificada por uma cor distinta. Isso ajuda a visualizar a separação entre as espécies em relação a essas características.\n",
    "\n",
    "- **Separação entre as Espécies**:\n",
    "  - **Iris setosa** é claramente separada das outras duas espécies no gráfico 3D, com uma distribuição distinta nas três dimensões. Essa espécie forma um grupo mais compacto e visível.\n",
    "  - **Iris versicolor** e **Iris virginica** apresentam maior sobreposição, embora seja possível observar que **Iris virginica** tende a ter valores maiores para o **comprimento da pétala** e **largura da sépala**. As duas espécies estão mais próximas no gráfico, dificultando a separação visual completa.\n",
    "\n",
    "- **Relações entre as Variáveis**:\n",
    "  - A relação entre o **comprimento da sépala** e o **comprimento da pétala** é observada no gráfico, com uma tendência de **Iris virginica** e **Iris versicolor** apresentarem valores maiores em ambas as variáveis. No entanto, a **largura da sépala** não segue a mesma tendência de variação, com maior dispersão observada nesse eixo.\n",
    "  \n",
    "- **Utilização do Gráfico 3D**:\n",
    "  - O gráfico 3D oferece uma visão mais rica das relações espaciais entre as variáveis, mas pode ser difícil de interpretar em termos de sobreposições quando há muitas espécies ou dados muito próximos.\n",
    "  - Embora o gráfico 3D facilite a visualização de múltiplas variáveis simultaneamente, a análise pode ser mais complexa devido à perspectiva visual e ao agrupamento das espécies.\n",
    "\n",
    "- **Possíveis Melhorias**:\n",
    "  - O gráfico poderia s"
   ]
  },
  {
   "cell_type": "markdown",
   "id": "51ebe49e",
   "metadata": {},
   "source": [
    "## Heatmap de correlação:\n"
   ]
  },
  {
   "cell_type": "code",
   "execution_count": null,
   "id": "e325b4ec",
   "metadata": {},
   "outputs": [],
   "source": [
    "corr_matrix = iris.iloc[:, :-1].corr()  # Ignorar a coluna de espécies\n",
    "sns.heatmap(corr_matrix, annot=True, cmap='coolwarm')\n",
    "plt.title('Mapa de Correlação')\n",
    "plt.show()"
   ]
  },
  {
   "cell_type": "markdown",
   "id": "aedd9150",
   "metadata": {},
   "source": [
    "### **Interpretação do heatmap de correlação:\n",
    "\n",
    "- **Relações fortes:**\n",
    "  - O comprimento da pétala (`petal_length`) e a largura da pétala (`petal_width`) geralmente têm uma correlação positiva alta porque estão fortemente relacionadas.\n",
    "  \n",
    "- **Relações fracas ou nulas:**\n",
    "  - A largura da sépala (`sepal_width`) pode ter uma correlação menor com as outras variáveis, indicando independência relativa."
   ]
  }
 ],
 "metadata": {
  "kernelspec": {
   "display_name": "Python 3",
   "language": "python",
   "name": "python3"
  },
  "language_info": {
   "codemirror_mode": {
    "name": "ipython",
    "version": 3
   },
   "file_extension": ".py",
   "mimetype": "text/x-python",
   "name": "python",
   "nbconvert_exporter": "python",
   "pygments_lexer": "ipython3",
   "version": "3.8.10"
  }
 },
 "nbformat": 4,
 "nbformat_minor": 5
}
